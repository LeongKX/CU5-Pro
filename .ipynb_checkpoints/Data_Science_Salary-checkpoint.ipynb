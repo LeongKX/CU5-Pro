{
 "cells": [
  {
   "cell_type": "code",
   "execution_count": 1,
   "id": "b4ef73f4-7da4-4710-b294-95a244af4369",
   "metadata": {},
   "outputs": [],
   "source": [
    "import pandas as pd\n",
    "import matplotlib.pyplot as plt\n",
    "import seaborn as sns\n",
    "import numpy as np\n",
    "\n",
    "from scipy import stats\n",
    "from scipy.stats import kurtosis, skew\n",
    "from outlier_cleaner import OutlierCleaner\n",
    "\n",
    "# preprocessing and pipeline\n",
    "from sklearn.model_selection import train_test_split\n",
    "from sklearn.compose import ColumnTransformer\n",
    "from sklearn.preprocessing import OneHotEncoder\n",
    "from sklearn.pipeline import Pipeline\n",
    "from sklearn.svm import SVC\n",
    "from sklearn.preprocessing import StandardScaler, OneHotEncoder, LabelEncoder\n",
    "\n",
    "\n",
    "# sklearn libraries\n",
    "from sklearn.linear_model import LinearRegression, Ridge, Lasso\n",
    "from sklearn.svm import SVR\n",
    "from sklearn.tree import DecisionTreeRegressor\n",
    "from sklearn.neighbors import KNeighborsRegressor\n",
    "from sklearn.ensemble import (\n",
    "    RandomForestRegressor, GradientBoostingRegressor, AdaBoostRegressor,\n",
    "    VotingRegressor, StackingRegressor\n",
    ")\n",
    "\n",
    "# sklearn metrics\n",
    "from sklearn.metrics import r2_score, mean_squared_error\n",
    "from extended_sklearn_metrics import evaluate_model_with_cross_validation\n",
    "\n",
    "# extra model\n",
    "import xgboost as xgb"
   ]
  },
  {
   "cell_type": "code",
   "execution_count": 2,
   "id": "f5ab1732-445b-4595-ab36-1c5effa9a4b8",
   "metadata": {},
   "outputs": [],
   "source": [
    "path = \"Latest_Data_Science_Salaries.csv\"\n",
    "df = pd.read_csv(path)"
   ]
  },
  {
   "cell_type": "code",
   "execution_count": 3,
   "id": "111794c6-4d58-4b55-a530-8806ab45a6e4",
   "metadata": {},
   "outputs": [
    {
     "data": {
      "text/plain": [
       "Job Title             0\n",
       "Employment Type       0\n",
       "Experience Level      0\n",
       "Expertise Level       0\n",
       "Salary                0\n",
       "Salary Currency       0\n",
       "Company Location      0\n",
       "Salary in USD         0\n",
       "Employee Residence    0\n",
       "Company Size          0\n",
       "Year                  0\n",
       "dtype: int64"
      ]
     },
     "execution_count": 3,
     "metadata": {},
     "output_type": "execute_result"
    }
   ],
   "source": [
    "df.isna().sum()"
   ]
  },
  {
   "cell_type": "code",
   "execution_count": 4,
   "id": "f64feb1e-5ad8-484c-bcdd-9bb6cf1300eb",
   "metadata": {},
   "outputs": [
    {
     "data": {
      "text/plain": [
       "0"
      ]
     },
     "execution_count": 4,
     "metadata": {},
     "output_type": "execute_result"
    }
   ],
   "source": [
    "df.duplicated().sum()"
   ]
  },
  {
   "cell_type": "code",
   "execution_count": 5,
   "id": "2561f8ef-442f-41fc-920d-f1bf221affc9",
   "metadata": {
    "scrolled": true
   },
   "outputs": [
    {
     "name": "stdout",
     "output_type": "stream",
     "text": [
      "<class 'pandas.core.frame.DataFrame'>\n",
      "RangeIndex: 3300 entries, 0 to 3299\n",
      "Data columns (total 11 columns):\n",
      " #   Column              Non-Null Count  Dtype \n",
      "---  ------              --------------  ----- \n",
      " 0   Job Title           3300 non-null   object\n",
      " 1   Employment Type     3300 non-null   object\n",
      " 2   Experience Level    3300 non-null   object\n",
      " 3   Expertise Level     3300 non-null   object\n",
      " 4   Salary              3300 non-null   int64 \n",
      " 5   Salary Currency     3300 non-null   object\n",
      " 6   Company Location    3300 non-null   object\n",
      " 7   Salary in USD       3300 non-null   int64 \n",
      " 8   Employee Residence  3300 non-null   object\n",
      " 9   Company Size        3300 non-null   object\n",
      " 10  Year                3300 non-null   int64 \n",
      "dtypes: int64(3), object(8)\n",
      "memory usage: 283.7+ KB\n"
     ]
    }
   ],
   "source": [
    "df.info()"
   ]
  },
  {
   "cell_type": "code",
   "execution_count": 6,
   "id": "d120e111-7a26-4d3f-83a5-10626251a258",
   "metadata": {},
   "outputs": [
    {
     "data": {
      "text/plain": [
       "(3300, 11)"
      ]
     },
     "execution_count": 6,
     "metadata": {},
     "output_type": "execute_result"
    }
   ],
   "source": [
    "df.shape"
   ]
  },
  {
   "cell_type": "code",
   "execution_count": 7,
   "id": "7a5920af-5ed0-4c15-90c4-22d1e73f6840",
   "metadata": {},
   "outputs": [
    {
     "data": {
      "text/plain": [
       "Index(['Job Title', 'Employment Type', 'Experience Level', 'Expertise Level',\n",
       "       'Salary', 'Salary Currency', 'Company Location', 'Salary in USD',\n",
       "       'Employee Residence', 'Company Size', 'Year'],\n",
       "      dtype='object')"
      ]
     },
     "execution_count": 7,
     "metadata": {},
     "output_type": "execute_result"
    }
   ],
   "source": [
    "df.columns"
   ]
  },
  {
   "cell_type": "code",
   "execution_count": 8,
   "id": "7be3a5f7-0ebb-4dc0-9190-ce980d5950d0",
   "metadata": {},
   "outputs": [
    {
     "data": {
      "text/plain": [
       "array(['Full-Time', 'Contract', 'Part-Time', 'Freelance'], dtype=object)"
      ]
     },
     "execution_count": 8,
     "metadata": {},
     "output_type": "execute_result"
    }
   ],
   "source": [
    "df['Employment Type'].unique()"
   ]
  },
  {
   "cell_type": "code",
   "execution_count": 9,
   "id": "23cd691d-b460-4be8-966d-a66146e25efa",
   "metadata": {},
   "outputs": [
    {
     "data": {
      "text/plain": [
       "array(['Senior', 'Mid', 'Executive', 'Entry'], dtype=object)"
      ]
     },
     "execution_count": 9,
     "metadata": {},
     "output_type": "execute_result"
    }
   ],
   "source": [
    "df['Experience Level'].unique()"
   ]
  },
  {
   "cell_type": "code",
   "execution_count": 10,
   "id": "122769bd-f6f8-4f31-b2d0-18fd9a5dc7ce",
   "metadata": {},
   "outputs": [
    {
     "data": {
      "text/plain": [
       "array(['Expert', 'Intermediate', 'Director', 'Junior'], dtype=object)"
      ]
     },
     "execution_count": 10,
     "metadata": {},
     "output_type": "execute_result"
    }
   ],
   "source": [
    "df['Expertise Level'].unique()"
   ]
  },
  {
   "cell_type": "code",
   "execution_count": 11,
   "id": "405bd4de-7e51-469a-98b2-d4a5902e87b9",
   "metadata": {},
   "outputs": [
    {
     "data": {
      "text/plain": [
       "array(['Medium', 'Large', 'Small'], dtype=object)"
      ]
     },
     "execution_count": 11,
     "metadata": {},
     "output_type": "execute_result"
    }
   ],
   "source": [
    "df['Company Size'].unique()"
   ]
  },
  {
   "cell_type": "code",
   "execution_count": 12,
   "id": "1e9114bd-36fb-408b-b90a-56db4d849199",
   "metadata": {},
   "outputs": [
    {
     "data": {
      "text/html": [
       "<div>\n",
       "<style scoped>\n",
       "    .dataframe tbody tr th:only-of-type {\n",
       "        vertical-align: middle;\n",
       "    }\n",
       "\n",
       "    .dataframe tbody tr th {\n",
       "        vertical-align: top;\n",
       "    }\n",
       "\n",
       "    .dataframe thead th {\n",
       "        text-align: right;\n",
       "    }\n",
       "</style>\n",
       "<table border=\"1\" class=\"dataframe\">\n",
       "  <thead>\n",
       "    <tr style=\"text-align: right;\">\n",
       "      <th></th>\n",
       "      <th>Job Title</th>\n",
       "      <th>Employment Type</th>\n",
       "      <th>Experience Level</th>\n",
       "      <th>Expertise Level</th>\n",
       "      <th>Salary</th>\n",
       "      <th>Salary Currency</th>\n",
       "      <th>Company Location</th>\n",
       "      <th>Salary in USD</th>\n",
       "      <th>Employee Residence</th>\n",
       "      <th>Company Size</th>\n",
       "      <th>Year</th>\n",
       "    </tr>\n",
       "  </thead>\n",
       "  <tbody>\n",
       "    <tr>\n",
       "      <th>0</th>\n",
       "      <td>Data Engineer</td>\n",
       "      <td>Full-Time</td>\n",
       "      <td>Senior</td>\n",
       "      <td>Expert</td>\n",
       "      <td>210000</td>\n",
       "      <td>United States Dollar</td>\n",
       "      <td>United States</td>\n",
       "      <td>210000</td>\n",
       "      <td>United States</td>\n",
       "      <td>Medium</td>\n",
       "      <td>2023</td>\n",
       "    </tr>\n",
       "    <tr>\n",
       "      <th>1</th>\n",
       "      <td>Data Engineer</td>\n",
       "      <td>Full-Time</td>\n",
       "      <td>Senior</td>\n",
       "      <td>Expert</td>\n",
       "      <td>165000</td>\n",
       "      <td>United States Dollar</td>\n",
       "      <td>United States</td>\n",
       "      <td>165000</td>\n",
       "      <td>United States</td>\n",
       "      <td>Medium</td>\n",
       "      <td>2023</td>\n",
       "    </tr>\n",
       "    <tr>\n",
       "      <th>2</th>\n",
       "      <td>Data Engineer</td>\n",
       "      <td>Full-Time</td>\n",
       "      <td>Senior</td>\n",
       "      <td>Expert</td>\n",
       "      <td>185900</td>\n",
       "      <td>United States Dollar</td>\n",
       "      <td>United States</td>\n",
       "      <td>185900</td>\n",
       "      <td>United States</td>\n",
       "      <td>Medium</td>\n",
       "      <td>2023</td>\n",
       "    </tr>\n",
       "    <tr>\n",
       "      <th>3</th>\n",
       "      <td>Data Engineer</td>\n",
       "      <td>Full-Time</td>\n",
       "      <td>Senior</td>\n",
       "      <td>Expert</td>\n",
       "      <td>129300</td>\n",
       "      <td>United States Dollar</td>\n",
       "      <td>United States</td>\n",
       "      <td>129300</td>\n",
       "      <td>United States</td>\n",
       "      <td>Medium</td>\n",
       "      <td>2023</td>\n",
       "    </tr>\n",
       "    <tr>\n",
       "      <th>4</th>\n",
       "      <td>Data Scientist</td>\n",
       "      <td>Full-Time</td>\n",
       "      <td>Senior</td>\n",
       "      <td>Expert</td>\n",
       "      <td>140000</td>\n",
       "      <td>United States Dollar</td>\n",
       "      <td>United States</td>\n",
       "      <td>140000</td>\n",
       "      <td>United States</td>\n",
       "      <td>Medium</td>\n",
       "      <td>2023</td>\n",
       "    </tr>\n",
       "  </tbody>\n",
       "</table>\n",
       "</div>"
      ],
      "text/plain": [
       "        Job Title Employment Type Experience Level Expertise Level  Salary  \\\n",
       "0   Data Engineer       Full-Time           Senior          Expert  210000   \n",
       "1   Data Engineer       Full-Time           Senior          Expert  165000   \n",
       "2   Data Engineer       Full-Time           Senior          Expert  185900   \n",
       "3   Data Engineer       Full-Time           Senior          Expert  129300   \n",
       "4  Data Scientist       Full-Time           Senior          Expert  140000   \n",
       "\n",
       "        Salary Currency Company Location  Salary in USD Employee Residence  \\\n",
       "0  United States Dollar    United States         210000      United States   \n",
       "1  United States Dollar    United States         165000      United States   \n",
       "2  United States Dollar    United States         185900      United States   \n",
       "3  United States Dollar    United States         129300      United States   \n",
       "4  United States Dollar    United States         140000      United States   \n",
       "\n",
       "  Company Size  Year  \n",
       "0       Medium  2023  \n",
       "1       Medium  2023  \n",
       "2       Medium  2023  \n",
       "3       Medium  2023  \n",
       "4       Medium  2023  "
      ]
     },
     "execution_count": 12,
     "metadata": {},
     "output_type": "execute_result"
    }
   ],
   "source": [
    "df.head()"
   ]
  },
  {
   "cell_type": "code",
   "execution_count": 13,
   "id": "407ff79a-028e-4e91-bd8b-12d0d1a0d4ba",
   "metadata": {},
   "outputs": [
    {
     "data": {
      "text/plain": [
       "Index(['Job Title', 'Employment Type', 'Experience Level', 'Expertise Level',\n",
       "       'Salary Currency', 'Company Location', 'Employee Residence',\n",
       "       'Company Size'],\n",
       "      dtype='object')"
      ]
     },
     "execution_count": 13,
     "metadata": {},
     "output_type": "execute_result"
    }
   ],
   "source": [
    "df2 = df.select_dtypes('object').columns\n",
    "df2"
   ]
  },
  {
   "cell_type": "code",
   "execution_count": 14,
   "id": "6e2cd9f5-03a1-438f-8c66-cb6accf5846f",
   "metadata": {},
   "outputs": [
    {
     "data": {
      "text/plain": [
       "Index(['Job Title', 'Employment Type', 'Experience Level', 'Expertise Level',\n",
       "       'Salary', 'Salary Currency', 'Company Location', 'Salary in USD',\n",
       "       'Employee Residence', 'Company Size', 'Year'],\n",
       "      dtype='object')"
      ]
     },
     "execution_count": 14,
     "metadata": {},
     "output_type": "execute_result"
    }
   ],
   "source": [
    "df.columns"
   ]
  },
  {
   "cell_type": "code",
   "execution_count": 15,
   "id": "0afbd98d-f02a-4b34-b493-388f15b0fceb",
   "metadata": {},
   "outputs": [],
   "source": [
    "encoder = LabelEncoder()"
   ]
  },
  {
   "cell_type": "code",
   "execution_count": 16,
   "id": "40cf9891-9ce5-4672-9d6d-d1a87fb289ce",
   "metadata": {},
   "outputs": [],
   "source": [
    "categorical_cols = ['Job Title', 'Employment Type', 'Experience Level', 'Expertise Level',\n",
    "       'Salary', 'Salary Currency', 'Company Location', 'Salary in USD',\n",
    "       'Employee Residence', 'Company Size', 'Year']\n",
    "\n",
    "for col in categorical_cols:\n",
    "    df[col+'_encoded'] = encoder.fit_transform(df[col])"
   ]
  },
  {
   "cell_type": "code",
   "execution_count": 30,
   "id": "70a1259f-2b88-483e-b8c5-71f30e1ad136",
   "metadata": {},
   "outputs": [],
   "source": [
    "# Q1 = df['Salary in USD'].quantile(0.25)\n",
    "# Q3 = df['Salary in USD'].quantile(0.75)\n",
    "# IQR = Q3 - Q1\n",
    "# upper_bound =  Q3 + 1.5 * IQR\n",
    "# lower_bound =  Q1 - 1.5 * IQR"
   ]
  },
  {
   "cell_type": "code",
   "execution_count": 31,
   "id": "776a47ed-dd01-4c6f-b588-93c55e022b23",
   "metadata": {},
   "outputs": [],
   "source": [
    "# df_cleaned = df[(df['Salary in USD'] >= lower_bound) & (df['Salary in USD'] <= upper_bound)]"
   ]
  },
  {
   "cell_type": "code",
   "execution_count": 32,
   "id": "8060f3e6-cec8-40ed-b6ce-a0633f83646f",
   "metadata": {},
   "outputs": [],
   "source": [
    "cleaner = OutlierCleaner(df,preserve_index=True)"
   ]
  },
  {
   "cell_type": "code",
   "execution_count": 36,
   "id": "ed4d60dd-4755-4536-a69a-45c71a70aaaf",
   "metadata": {
    "scrolled": true
   },
   "outputs": [
    {
     "name": "stderr",
     "output_type": "stream",
     "text": [
      "Cleaning columns: 100%|██████████| 2/2 [00:00<00:00, 697.37it/s]\n"
     ]
    }
   ],
   "source": [
    "df_cleaned, info = cleaner.clean_columns(\n",
    "    columns=['Experience Level_encoded', 'Salary in USD'],\n",
    "    method='zscore',\n",
    "    show_progress=True\n",
    ")"
   ]
  },
  {
   "cell_type": "code",
   "execution_count": 41,
   "id": "b1239731-01da-4065-97b7-b843e286d0db",
   "metadata": {},
   "outputs": [
    {
     "data": {
      "image/png": "[encoded data removed]",
      "text/plain": [
       "<Figure size 1000x600 with 2 Axes>"
      ]
     },
     "metadata": {},
     "output_type": "display_data"
    }
   ],
   "source": [
    "plt.figure(figsize=(10,6))\n",
    "plt.subplot(121)\n",
    "sns.boxplot(data =df,x='Experience Level',y='Salary in USD',hue='Experience Level')\n",
    "plt.subplot(122)\n",
    "sns.boxplot(data =df_cleaned,x='Experience Level',y='Salary in USD',hue='Experience Level')\n",
    "plt.show()"
   ]
  },
  {
   "cell_type": "code",
   "execution_count": 43,
   "id": "27c1deb0-c3aa-4e80-8a64-5066fcfff924",
   "metadata": {},
   "outputs": [
    {
     "data": {
      "image/png": "[encoded data removed]",
      "text/plain": [
       "<Figure size 1000x600 with 2 Axes>"
      ]
     },
     "metadata": {},
     "output_type": "display_data"
    }
   ],
   "source": [
    "plt.figure(figsize=(10,6))\n",
    "plt.subplot(121)\n",
    "sns.histplot(df_cleaned['Salary in USD'])\n",
    "plt.subplot(122)\n",
    "sns.boxplot(df_cleaned['Salary in USD'])\n",
    "plt.show()"
   ]
  },
  {
   "cell_type": "code",
   "execution_count": 45,
   "id": "af25a8ce-86ea-4529-962c-81951aa50d72",
   "metadata": {},
   "outputs": [
    {
     "data": {
      "text/plain": [
       "0.42306056775992495"
      ]
     },
     "execution_count": 45,
     "metadata": {},
     "output_type": "execute_result"
    }
   ],
   "source": [
    "df_cleaned['Salary in USD'].skew()"
   ]
  },
  {
   "cell_type": "code",
   "execution_count": 47,
   "id": "c5c74a66-0e93-45f5-bb3b-4eeab107323f",
   "metadata": {},
   "outputs": [
    {
     "data": {
      "text/plain": [
       "Index(['Job Title', 'Employment Type', 'Experience Level', 'Expertise Level',\n",
       "       'Salary', 'Salary Currency', 'Company Location', 'Salary in USD',\n",
       "       'Employee Residence', 'Company Size', 'Year', 'Job Title_encoded',\n",
       "       'Employment Type_encoded', 'Experience Level_encoded',\n",
       "       'Expertise Level_encoded', 'Salary_encoded', 'Salary Currency_encoded',\n",
       "       'Company Location_encoded', 'Salary in USD_encoded',\n",
       "       'Employee Residence_encoded', 'Company Size_encoded', 'Year_encoded'],\n",
       "      dtype='object')"
      ]
     },
     "execution_count": 47,
     "metadata": {},
     "output_type": "execute_result"
    }
   ],
   "source": [
    "df_cleaned.columns"
   ]
  },
  {
   "cell_type": "code",
   "execution_count": 49,
   "id": "6e0258ff-57bc-47ef-a40c-b2f68497ddbf",
   "metadata": {},
   "outputs": [
    {
     "data": {
      "text/html": [
       "<div>\n",
       "<style scoped>\n",
       "    .dataframe tbody tr th:only-of-type {\n",
       "        vertical-align: middle;\n",
       "    }\n",
       "\n",
       "    .dataframe tbody tr th {\n",
       "        vertical-align: top;\n",
       "    }\n",
       "\n",
       "    .dataframe thead th {\n",
       "        text-align: right;\n",
       "    }\n",
       "</style>\n",
       "<table border=\"1\" class=\"dataframe\">\n",
       "  <thead>\n",
       "    <tr style=\"text-align: right;\">\n",
       "      <th></th>\n",
       "      <th>Job Title</th>\n",
       "      <th>Employment Type</th>\n",
       "      <th>Experience Level</th>\n",
       "      <th>Expertise Level</th>\n",
       "      <th>Salary</th>\n",
       "      <th>Salary Currency</th>\n",
       "      <th>Company Location</th>\n",
       "      <th>Salary in USD</th>\n",
       "      <th>Employee Residence</th>\n",
       "      <th>Company Size</th>\n",
       "      <th>...</th>\n",
       "      <th>Employment Type_encoded</th>\n",
       "      <th>Experience Level_encoded</th>\n",
       "      <th>Expertise Level_encoded</th>\n",
       "      <th>Salary_encoded</th>\n",
       "      <th>Salary Currency_encoded</th>\n",
       "      <th>Company Location_encoded</th>\n",
       "      <th>Salary in USD_encoded</th>\n",
       "      <th>Employee Residence_encoded</th>\n",
       "      <th>Company Size_encoded</th>\n",
       "      <th>Year_encoded</th>\n",
       "    </tr>\n",
       "  </thead>\n",
       "  <tbody>\n",
       "    <tr>\n",
       "      <th>0</th>\n",
       "      <td>Data Engineer</td>\n",
       "      <td>Full-Time</td>\n",
       "      <td>Senior</td>\n",
       "      <td>Expert</td>\n",
       "      <td>210000</td>\n",
       "      <td>United States Dollar</td>\n",
       "      <td>United States</td>\n",
       "      <td>210000</td>\n",
       "      <td>United States</td>\n",
       "      <td>Medium</td>\n",
       "      <td>...</td>\n",
       "      <td>2</td>\n",
       "      <td>3</td>\n",
       "      <td>1</td>\n",
       "      <td>789</td>\n",
       "      <td>21</td>\n",
       "      <td>70</td>\n",
       "      <td>1074</td>\n",
       "      <td>80</td>\n",
       "      <td>1</td>\n",
       "      <td>3</td>\n",
       "    </tr>\n",
       "    <tr>\n",
       "      <th>1</th>\n",
       "      <td>Data Engineer</td>\n",
       "      <td>Full-Time</td>\n",
       "      <td>Senior</td>\n",
       "      <td>Expert</td>\n",
       "      <td>165000</td>\n",
       "      <td>United States Dollar</td>\n",
       "      <td>United States</td>\n",
       "      <td>165000</td>\n",
       "      <td>United States</td>\n",
       "      <td>Medium</td>\n",
       "      <td>...</td>\n",
       "      <td>2</td>\n",
       "      <td>3</td>\n",
       "      <td>1</td>\n",
       "      <td>575</td>\n",
       "      <td>21</td>\n",
       "      <td>70</td>\n",
       "      <td>850</td>\n",
       "      <td>80</td>\n",
       "      <td>1</td>\n",
       "      <td>3</td>\n",
       "    </tr>\n",
       "    <tr>\n",
       "      <th>2</th>\n",
       "      <td>Data Engineer</td>\n",
       "      <td>Full-Time</td>\n",
       "      <td>Senior</td>\n",
       "      <td>Expert</td>\n",
       "      <td>185900</td>\n",
       "      <td>United States Dollar</td>\n",
       "      <td>United States</td>\n",
       "      <td>185900</td>\n",
       "      <td>United States</td>\n",
       "      <td>Medium</td>\n",
       "      <td>...</td>\n",
       "      <td>2</td>\n",
       "      <td>3</td>\n",
       "      <td>1</td>\n",
       "      <td>681</td>\n",
       "      <td>21</td>\n",
       "      <td>70</td>\n",
       "      <td>960</td>\n",
       "      <td>80</td>\n",
       "      <td>1</td>\n",
       "      <td>3</td>\n",
       "    </tr>\n",
       "    <tr>\n",
       "      <th>3</th>\n",
       "      <td>Data Engineer</td>\n",
       "      <td>Full-Time</td>\n",
       "      <td>Senior</td>\n",
       "      <td>Expert</td>\n",
       "      <td>129300</td>\n",
       "      <td>United States Dollar</td>\n",
       "      <td>United States</td>\n",
       "      <td>129300</td>\n",
       "      <td>United States</td>\n",
       "      <td>Medium</td>\n",
       "      <td>...</td>\n",
       "      <td>2</td>\n",
       "      <td>3</td>\n",
       "      <td>1</td>\n",
       "      <td>378</td>\n",
       "      <td>21</td>\n",
       "      <td>70</td>\n",
       "      <td>641</td>\n",
       "      <td>80</td>\n",
       "      <td>1</td>\n",
       "      <td>3</td>\n",
       "    </tr>\n",
       "    <tr>\n",
       "      <th>4</th>\n",
       "      <td>Data Scientist</td>\n",
       "      <td>Full-Time</td>\n",
       "      <td>Senior</td>\n",
       "      <td>Expert</td>\n",
       "      <td>140000</td>\n",
       "      <td>United States Dollar</td>\n",
       "      <td>United States</td>\n",
       "      <td>140000</td>\n",
       "      <td>United States</td>\n",
       "      <td>Medium</td>\n",
       "      <td>...</td>\n",
       "      <td>2</td>\n",
       "      <td>3</td>\n",
       "      <td>1</td>\n",
       "      <td>440</td>\n",
       "      <td>21</td>\n",
       "      <td>70</td>\n",
       "      <td>707</td>\n",
       "      <td>80</td>\n",
       "      <td>1</td>\n",
       "      <td>3</td>\n",
       "    </tr>\n",
       "  </tbody>\n",
       "</table>\n",
       "<p>5 rows × 22 columns</p>\n",
       "</div>"
      ],
      "text/plain": [
       "        Job Title Employment Type Experience Level Expertise Level  Salary  \\\n",
       "0   Data Engineer       Full-Time           Senior          Expert  210000   \n",
       "1   Data Engineer       Full-Time           Senior          Expert  165000   \n",
       "2   Data Engineer       Full-Time           Senior          Expert  185900   \n",
       "3   Data Engineer       Full-Time           Senior          Expert  129300   \n",
       "4  Data Scientist       Full-Time           Senior          Expert  140000   \n",
       "\n",
       "        Salary Currency Company Location  Salary in USD Employee Residence  \\\n",
       "0  United States Dollar    United States         210000      United States   \n",
       "1  United States Dollar    United States         165000      United States   \n",
       "2  United States Dollar    United States         185900      United States   \n",
       "3  United States Dollar    United States         129300      United States   \n",
       "4  United States Dollar    United States         140000      United States   \n",
       "\n",
       "  Company Size  ...  Employment Type_encoded  Experience Level_encoded  \\\n",
       "0       Medium  ...                        2                         3   \n",
       "1       Medium  ...                        2                         3   \n",
       "2       Medium  ...                        2                         3   \n",
       "3       Medium  ...                        2                         3   \n",
       "4       Medium  ...                        2                         3   \n",
       "\n",
       "   Expertise Level_encoded  Salary_encoded  Salary Currency_encoded  \\\n",
       "0                        1             789                       21   \n",
       "1                        1             575                       21   \n",
       "2                        1             681                       21   \n",
       "3                        1             378                       21   \n",
       "4                        1             440                       21   \n",
       "\n",
       "   Company Location_encoded  Salary in USD_encoded  \\\n",
       "0                        70                   1074   \n",
       "1                        70                    850   \n",
       "2                        70                    960   \n",
       "3                        70                    641   \n",
       "4                        70                    707   \n",
       "\n",
       "   Employee Residence_encoded  Company Size_encoded  Year_encoded  \n",
       "0                          80                     1             3  \n",
       "1                          80                     1             3  \n",
       "2                          80                     1             3  \n",
       "3                          80                     1             3  \n",
       "4                          80                     1             3  \n",
       "\n",
       "[5 rows x 22 columns]"
      ]
     },
     "execution_count": 49,
     "metadata": {},
     "output_type": "execute_result"
    }
   ],
   "source": [
    "df_cleaned.head()"
   ]
  },
  {
   "cell_type": "code",
   "execution_count": 51,
   "id": "c9418d23-a75e-48dd-b68e-817e4aeb5497",
   "metadata": {},
   "outputs": [],
   "source": [
    "corr1 = df_cleaned[['Job Title_encoded', 'Employment Type_encoded', 'Experience Level_encoded', 'Expertise Level_encoded',\n",
    "       'Salary_encoded', 'Salary Currency_encoded', 'Company Location_encoded', 'Salary in USD_encoded',\n",
    "       'Employee Residence_encoded', 'Company Size_encoded', 'Year_encoded']].corr()"
   ]
  },
  {
   "cell_type": "code",
   "execution_count": 53,
   "id": "043f667f-6bbb-421d-a711-1b36c3f0777e",
   "metadata": {},
   "outputs": [],
   "source": [
    "f_corr = corr1[corr1>0.3]"
   ]
  },
  {
   "cell_type": "code",
   "execution_count": 55,
   "id": "0ecb98e9-7ab9-4a82-9371-1ae07ab2eff9",
   "metadata": {},
   "outputs": [
    {
     "data": {
      "image/png": "[encoded data removed]",
      "text/plain": [
       "<Figure size 1200x800 with 2 Axes>"
      ]
     },
     "metadata": {},
     "output_type": "display_data"
    }
   ],
   "source": [
    "plt.figure(figsize=(12,8))\n",
    "# corr = df.corr(numeric_only=True)\n",
    "sns.heatmap(f_corr,annot=True)\n",
    "plt.show()"
   ]
  },
  {
   "cell_type": "code",
   "execution_count": 59,
   "id": "6101827e-55b8-43e7-9405-6ce671d622c5",
   "metadata": {},
   "outputs": [
    {
     "data": {
      "text/html": [
       "<div>\n",
       "<style scoped>\n",
       "    .dataframe tbody tr th:only-of-type {\n",
       "        vertical-align: middle;\n",
       "    }\n",
       "\n",
       "    .dataframe tbody tr th {\n",
       "        vertical-align: top;\n",
       "    }\n",
       "\n",
       "    .dataframe thead th {\n",
       "        text-align: right;\n",
       "    }\n",
       "</style>\n",
       "<table border=\"1\" class=\"dataframe\">\n",
       "  <thead>\n",
       "    <tr style=\"text-align: right;\">\n",
       "      <th></th>\n",
       "      <th>Salary in USD</th>\n",
       "    </tr>\n",
       "  </thead>\n",
       "  <tbody>\n",
       "    <tr>\n",
       "      <th>Salary in USD</th>\n",
       "      <td>1.000000</td>\n",
       "    </tr>\n",
       "    <tr>\n",
       "      <th>Salary in USD_encoded</th>\n",
       "      <td>0.982972</td>\n",
       "    </tr>\n",
       "    <tr>\n",
       "      <th>Salary_encoded</th>\n",
       "      <td>0.846072</td>\n",
       "    </tr>\n",
       "    <tr>\n",
       "      <th>Salary Currency_encoded</th>\n",
       "      <td>0.430304</td>\n",
       "    </tr>\n",
       "    <tr>\n",
       "      <th>Experience Level_encoded</th>\n",
       "      <td>0.325195</td>\n",
       "    </tr>\n",
       "    <tr>\n",
       "      <th>Employee Residence_encoded</th>\n",
       "      <td>0.317144</td>\n",
       "    </tr>\n",
       "    <tr>\n",
       "      <th>Company Location_encoded</th>\n",
       "      <td>0.306925</td>\n",
       "    </tr>\n",
       "    <tr>\n",
       "      <th>Year</th>\n",
       "      <td>0.253946</td>\n",
       "    </tr>\n",
       "    <tr>\n",
       "      <th>Year_encoded</th>\n",
       "      <td>0.253946</td>\n",
       "    </tr>\n",
       "    <tr>\n",
       "      <th>Job Title_encoded</th>\n",
       "      <td>0.161504</td>\n",
       "    </tr>\n",
       "    <tr>\n",
       "      <th>Company Size_encoded</th>\n",
       "      <td>0.042099</td>\n",
       "    </tr>\n",
       "    <tr>\n",
       "      <th>Employment Type_encoded</th>\n",
       "      <td>0.016563</td>\n",
       "    </tr>\n",
       "    <tr>\n",
       "      <th>Salary</th>\n",
       "      <td>-0.035933</td>\n",
       "    </tr>\n",
       "    <tr>\n",
       "      <th>Expertise Level_encoded</th>\n",
       "      <td>-0.449173</td>\n",
       "    </tr>\n",
       "  </tbody>\n",
       "</table>\n",
       "</div>"
      ],
      "text/plain": [
       "                            Salary in USD\n",
       "Salary in USD                    1.000000\n",
       "Salary in USD_encoded            0.982972\n",
       "Salary_encoded                   0.846072\n",
       "Salary Currency_encoded          0.430304\n",
       "Experience Level_encoded         0.325195\n",
       "Employee Residence_encoded       0.317144\n",
       "Company Location_encoded         0.306925\n",
       "Year                             0.253946\n",
       "Year_encoded                     0.253946\n",
       "Job Title_encoded                0.161504\n",
       "Company Size_encoded             0.042099\n",
       "Employment Type_encoded          0.016563\n",
       "Salary                          -0.035933\n",
       "Expertise Level_encoded         -0.449173"
      ]
     },
     "execution_count": 59,
     "metadata": {},
     "output_type": "execute_result"
    }
   ],
   "source": [
    "df2 = df_cleaned.drop(columns=df_cleaned.select_dtypes(include='object'))\n",
    "df2.dtypes\n",
    "df2.corr()[['Salary in USD']].sort_values(by='Salary in USD', ascending=False)"
   ]
  },
  {
   "cell_type": "code",
   "execution_count": 61,
   "id": "3e642f68-b7bf-491b-bbf6-7ab31bfc2faf",
   "metadata": {},
   "outputs": [
    {
     "data": {
      "text/html": [
       "<div>\n",
       "<style scoped>\n",
       "    .dataframe tbody tr th:only-of-type {\n",
       "        vertical-align: middle;\n",
       "    }\n",
       "\n",
       "    .dataframe tbody tr th {\n",
       "        vertical-align: top;\n",
       "    }\n",
       "\n",
       "    .dataframe thead th {\n",
       "        text-align: right;\n",
       "    }\n",
       "</style>\n",
       "<table border=\"1\" class=\"dataframe\">\n",
       "  <thead>\n",
       "    <tr style=\"text-align: right;\">\n",
       "      <th></th>\n",
       "      <th>Company Location_encoded</th>\n",
       "      <th>Job Title_encoded</th>\n",
       "      <th>Experience Level_encoded</th>\n",
       "      <th>Employee Residence_encoded</th>\n",
       "      <th>Salary Currency_encoded</th>\n",
       "    </tr>\n",
       "  </thead>\n",
       "  <tbody>\n",
       "    <tr>\n",
       "      <th>0</th>\n",
       "      <td>70</td>\n",
       "      <td>39</td>\n",
       "      <td>3</td>\n",
       "      <td>80</td>\n",
       "      <td>21</td>\n",
       "    </tr>\n",
       "    <tr>\n",
       "      <th>1</th>\n",
       "      <td>70</td>\n",
       "      <td>39</td>\n",
       "      <td>3</td>\n",
       "      <td>80</td>\n",
       "      <td>21</td>\n",
       "    </tr>\n",
       "    <tr>\n",
       "      <th>2</th>\n",
       "      <td>70</td>\n",
       "      <td>39</td>\n",
       "      <td>3</td>\n",
       "      <td>80</td>\n",
       "      <td>21</td>\n",
       "    </tr>\n",
       "    <tr>\n",
       "      <th>3</th>\n",
       "      <td>70</td>\n",
       "      <td>39</td>\n",
       "      <td>3</td>\n",
       "      <td>80</td>\n",
       "      <td>21</td>\n",
       "    </tr>\n",
       "    <tr>\n",
       "      <th>4</th>\n",
       "      <td>70</td>\n",
       "      <td>59</td>\n",
       "      <td>3</td>\n",
       "      <td>80</td>\n",
       "      <td>21</td>\n",
       "    </tr>\n",
       "    <tr>\n",
       "      <th>...</th>\n",
       "      <td>...</td>\n",
       "      <td>...</td>\n",
       "      <td>...</td>\n",
       "      <td>...</td>\n",
       "      <td>...</td>\n",
       "    </tr>\n",
       "    <tr>\n",
       "      <th>3294</th>\n",
       "      <td>70</td>\n",
       "      <td>61</td>\n",
       "      <td>3</td>\n",
       "      <td>80</td>\n",
       "      <td>21</td>\n",
       "    </tr>\n",
       "    <tr>\n",
       "      <th>3296</th>\n",
       "      <td>70</td>\n",
       "      <td>100</td>\n",
       "      <td>2</td>\n",
       "      <td>80</td>\n",
       "      <td>21</td>\n",
       "    </tr>\n",
       "    <tr>\n",
       "      <th>3297</th>\n",
       "      <td>70</td>\n",
       "      <td>59</td>\n",
       "      <td>0</td>\n",
       "      <td>80</td>\n",
       "      <td>21</td>\n",
       "    </tr>\n",
       "    <tr>\n",
       "      <th>3298</th>\n",
       "      <td>70</td>\n",
       "      <td>19</td>\n",
       "      <td>0</td>\n",
       "      <td>80</td>\n",
       "      <td>21</td>\n",
       "    </tr>\n",
       "    <tr>\n",
       "      <th>3299</th>\n",
       "      <td>30</td>\n",
       "      <td>57</td>\n",
       "      <td>3</td>\n",
       "      <td>35</td>\n",
       "      <td>9</td>\n",
       "    </tr>\n",
       "  </tbody>\n",
       "</table>\n",
       "<p>3275 rows × 5 columns</p>\n",
       "</div>"
      ],
      "text/plain": [
       "      Company Location_encoded  Job Title_encoded  Experience Level_encoded  \\\n",
       "0                           70                 39                         3   \n",
       "1                           70                 39                         3   \n",
       "2                           70                 39                         3   \n",
       "3                           70                 39                         3   \n",
       "4                           70                 59                         3   \n",
       "...                        ...                ...                       ...   \n",
       "3294                        70                 61                         3   \n",
       "3296                        70                100                         2   \n",
       "3297                        70                 59                         0   \n",
       "3298                        70                 19                         0   \n",
       "3299                        30                 57                         3   \n",
       "\n",
       "      Employee Residence_encoded  Salary Currency_encoded  \n",
       "0                             80                       21  \n",
       "1                             80                       21  \n",
       "2                             80                       21  \n",
       "3                             80                       21  \n",
       "4                             80                       21  \n",
       "...                          ...                      ...  \n",
       "3294                          80                       21  \n",
       "3296                          80                       21  \n",
       "3297                          80                       21  \n",
       "3298                          80                       21  \n",
       "3299                          35                        9  \n",
       "\n",
       "[3275 rows x 5 columns]"
      ]
     },
     "execution_count": 61,
     "metadata": {},
     "output_type": "execute_result"
    }
   ],
   "source": [
    "x = df_cleaned[['Company Location_encoded','Job Title_encoded','Experience Level_encoded','Employee Residence_encoded','Salary Currency_encoded']]\n",
    "y = df_cleaned['Salary in USD']\n",
    "x"
   ]
  },
  {
   "cell_type": "code",
   "execution_count": 63,
   "id": "7d992384-8147-4970-8c59-47f54c9f69c8",
   "metadata": {},
   "outputs": [],
   "source": [
    "scaler = StandardScaler()"
   ]
  },
  {
   "cell_type": "code",
   "execution_count": 65,
   "id": "f42ecf6a-2044-4ec7-86fb-10579dea11b0",
   "metadata": {},
   "outputs": [],
   "source": [
    "X_train, X_test, y_train, y_test = train_test_split(x,y,test_size=0.2,random_state=24)"
   ]
  },
  {
   "cell_type": "code",
   "execution_count": 67,
   "id": "231c839d-fc8b-431c-93f9-3d97873a9d2c",
   "metadata": {},
   "outputs": [
    {
     "data": {
      "text/plain": [
       "[]"
      ]
     },
     "execution_count": 67,
     "metadata": {},
     "output_type": "execute_result"
    }
   ],
   "source": [
    "cat_cols = x.select_dtypes(include='category').columns.tolist()\n",
    "cat_cols"
   ]
  },
  {
   "cell_type": "code",
   "execution_count": 69,
   "id": "e6b5a64e-5972-4df3-97e7-3b6f2ce36a15",
   "metadata": {},
   "outputs": [],
   "source": [
    "preprocessor = ColumnTransformer([('cat',OneHotEncoder(drop='first'),cat_cols)],remainder='passthrough')"
   ]
  },
  {
   "cell_type": "code",
   "execution_count": 71,
   "id": "5767cd91-8b46-4c97-8e31-b379ec7202c5",
   "metadata": {},
   "outputs": [],
   "source": [
    "models = {\n",
    "    'Linear Regression': LinearRegression(),\n",
    "    'Ridge Regression': Ridge(),\n",
    "    'Lasso Regression': Lasso(),\n",
    "    'Support Vector Regression': SVR(),\n",
    "    'Decision Tree Regression': DecisionTreeRegressor(),\n",
    "    'KNN Regression': KNeighborsRegressor(),\n",
    "    'Random Forest Regression': RandomForestRegressor(),\n",
    "    'AdaBoost Regression': AdaBoostRegressor(),\n",
    "    'XGBoost Regression': xgb.XGBRegressor()\n",
    "}"
   ]
  },
  {
   "cell_type": "code",
   "execution_count": 73,
   "id": "2344790e-5891-47ff-9141-1b2834aa3394",
   "metadata": {},
   "outputs": [],
   "source": [
    "results = []\n",
    "\n",
    "for name, model in models.items():\n",
    "    pipeline = Pipeline([\n",
    "        ('preprocessor',preprocessor),\n",
    "        ('regressor',model)\n",
    "    ])\n",
    "    pipeline.fit(X_train,y_train)\n",
    "    y_pred = pipeline.predict(X_test)\n",
    "    results.append({\n",
    "        'model':name,\n",
    "        'R2_score':r2_score(y_test,y_pred),\n",
    "        'MSE': mean_squared_error(y_test,y_pred)\n",
    "    })"
   ]
  },
  {
   "cell_type": "code",
   "execution_count": 75,
   "id": "8883e8e3-96dc-48d5-9c90-c3b1df427fee",
   "metadata": {},
   "outputs": [
    {
     "data": {
      "text/html": [
       "<div>\n",
       "<style scoped>\n",
       "    .dataframe tbody tr th:only-of-type {\n",
       "        vertical-align: middle;\n",
       "    }\n",
       "\n",
       "    .dataframe tbody tr th {\n",
       "        vertical-align: top;\n",
       "    }\n",
       "\n",
       "    .dataframe thead th {\n",
       "        text-align: right;\n",
       "    }\n",
       "</style>\n",
       "<table border=\"1\" class=\"dataframe\">\n",
       "  <thead>\n",
       "    <tr style=\"text-align: right;\">\n",
       "      <th></th>\n",
       "      <th>model</th>\n",
       "      <th>R2_score</th>\n",
       "      <th>MSE</th>\n",
       "    </tr>\n",
       "  </thead>\n",
       "  <tbody>\n",
       "    <tr>\n",
       "      <th>6</th>\n",
       "      <td>Random Forest Regression</td>\n",
       "      <td>0.412412</td>\n",
       "      <td>2.626075e+09</td>\n",
       "    </tr>\n",
       "    <tr>\n",
       "      <th>8</th>\n",
       "      <td>XGBoost Regression</td>\n",
       "      <td>0.398397</td>\n",
       "      <td>2.688709e+09</td>\n",
       "    </tr>\n",
       "    <tr>\n",
       "      <th>4</th>\n",
       "      <td>Decision Tree Regression</td>\n",
       "      <td>0.388269</td>\n",
       "      <td>2.733977e+09</td>\n",
       "    </tr>\n",
       "    <tr>\n",
       "      <th>5</th>\n",
       "      <td>KNN Regression</td>\n",
       "      <td>0.315525</td>\n",
       "      <td>3.059087e+09</td>\n",
       "    </tr>\n",
       "    <tr>\n",
       "      <th>7</th>\n",
       "      <td>AdaBoost Regression</td>\n",
       "      <td>0.283835</td>\n",
       "      <td>3.200719e+09</td>\n",
       "    </tr>\n",
       "    <tr>\n",
       "      <th>2</th>\n",
       "      <td>Lasso Regression</td>\n",
       "      <td>0.246398</td>\n",
       "      <td>3.368032e+09</td>\n",
       "    </tr>\n",
       "    <tr>\n",
       "      <th>0</th>\n",
       "      <td>Linear Regression</td>\n",
       "      <td>0.246398</td>\n",
       "      <td>3.368033e+09</td>\n",
       "    </tr>\n",
       "    <tr>\n",
       "      <th>1</th>\n",
       "      <td>Ridge Regression</td>\n",
       "      <td>0.246394</td>\n",
       "      <td>3.368049e+09</td>\n",
       "    </tr>\n",
       "    <tr>\n",
       "      <th>3</th>\n",
       "      <td>Support Vector Regression</td>\n",
       "      <td>-0.001658</td>\n",
       "      <td>4.476654e+09</td>\n",
       "    </tr>\n",
       "  </tbody>\n",
       "</table>\n",
       "</div>"
      ],
      "text/plain": [
       "                       model  R2_score           MSE\n",
       "6   Random Forest Regression  0.412412  2.626075e+09\n",
       "8         XGBoost Regression  0.398397  2.688709e+09\n",
       "4   Decision Tree Regression  0.388269  2.733977e+09\n",
       "5             KNN Regression  0.315525  3.059087e+09\n",
       "7        AdaBoost Regression  0.283835  3.200719e+09\n",
       "2           Lasso Regression  0.246398  3.368032e+09\n",
       "0          Linear Regression  0.246398  3.368033e+09\n",
       "1           Ridge Regression  0.246394  3.368049e+09\n",
       "3  Support Vector Regression -0.001658  4.476654e+09"
      ]
     },
     "execution_count": 75,
     "metadata": {},
     "output_type": "execute_result"
    }
   ],
   "source": [
    "df = pd.DataFrame(results)\n",
    "df.sort_values(by='R2_score',ascending = False)"
   ]
  },
  {
   "cell_type": "code",
   "execution_count": 77,
   "id": "deca7054-ca02-45db-b9b1-e91f1fd65b55",
   "metadata": {},
   "outputs": [
    {
     "data": {
      "text/plain": [
       "array([[ 70, 104,   3,  80,  21],\n",
       "       [ 70,  84,   3,  80,  21],\n",
       "       [ 70,  84,   3,  80,  21],\n",
       "       ...,\n",
       "       [ 69,  31,   2,  79,   2],\n",
       "       [ 70,   5,   3,  80,  21],\n",
       "       [ 70,  31,   3,  80,  21]])"
      ]
     },
     "execution_count": 77,
     "metadata": {},
     "output_type": "execute_result"
    }
   ],
   "source": [
    "X_test.values"
   ]
  },
  {
   "cell_type": "code",
   "execution_count": 79,
   "id": "bdb96a36-e7d0-45da-8303-073f6d82bd27",
   "metadata": {},
   "outputs": [
    {
     "data": {
      "text/plain": [
       "Index(['Company Location_encoded', 'Job Title_encoded',\n",
       "       'Experience Level_encoded', 'Employee Residence_encoded',\n",
       "       'Salary Currency_encoded'],\n",
       "      dtype='object')"
      ]
     },
     "execution_count": 79,
     "metadata": {},
     "output_type": "execute_result"
    }
   ],
   "source": [
    "X_test.columns"
   ]
  },
  {
   "cell_type": "code",
   "execution_count": 81,
   "id": "cf4d7953-22f6-4fbe-87a4-55c96bab5840",
   "metadata": {},
   "outputs": [],
   "source": [
    "new_df = pd.DataFrame({\n",
    "    'Company Location_encoded':[30],\n",
    "    'Job Title_encoded':[57],\n",
    "    'Experience Level_encoded':[3],\n",
    "    'Employee Residence_encoded':[35],\n",
    "    'Salary Currency_encoded':[9],\n",
    "    # 'Salary_encoded':[1066],\n",
    "    # 'Salary in USD_encoded':[408],\n",
    "})"
   ]
  },
  {
   "cell_type": "code",
   "execution_count": null,
   "id": "e0440821-43e4-42d5-ad91-1497faa0d2b6",
   "metadata": {},
   "outputs": [],
   "source": []
  },
  {
   "cell_type": "code",
   "execution_count": 92,
   "id": "b89d6f0e-2562-4632-8dfb-1137aef38589",
   "metadata": {},
   "outputs": [
    {
     "data": {
      "text/html": [
       "<div>\n",
       "<style scoped>\n",
       "    .dataframe tbody tr th:only-of-type {\n",
       "        vertical-align: middle;\n",
       "    }\n",
       "\n",
       "    .dataframe tbody tr th {\n",
       "        vertical-align: top;\n",
       "    }\n",
       "\n",
       "    .dataframe thead th {\n",
       "        text-align: right;\n",
       "    }\n",
       "</style>\n",
       "<table border=\"1\" class=\"dataframe\">\n",
       "  <thead>\n",
       "    <tr style=\"text-align: right;\">\n",
       "      <th></th>\n",
       "      <th>Salary</th>\n",
       "      <th>Salary in USD</th>\n",
       "      <th>Year</th>\n",
       "      <th>Job Title_encoded</th>\n",
       "      <th>Employment Type_encoded</th>\n",
       "      <th>Experience Level_encoded</th>\n",
       "      <th>Expertise Level_encoded</th>\n",
       "      <th>Salary_encoded</th>\n",
       "      <th>Salary Currency_encoded</th>\n",
       "      <th>Company Location_encoded</th>\n",
       "      <th>Salary in USD_encoded</th>\n",
       "      <th>Employee Residence_encoded</th>\n",
       "      <th>Company Size_encoded</th>\n",
       "      <th>Year_encoded</th>\n",
       "    </tr>\n",
       "  </thead>\n",
       "  <tbody>\n",
       "    <tr>\n",
       "      <th>0</th>\n",
       "      <td>210000</td>\n",
       "      <td>210000</td>\n",
       "      <td>2023</td>\n",
       "      <td>39</td>\n",
       "      <td>2</td>\n",
       "      <td>3</td>\n",
       "      <td>1</td>\n",
       "      <td>789</td>\n",
       "      <td>21</td>\n",
       "      <td>70</td>\n",
       "      <td>1074</td>\n",
       "      <td>80</td>\n",
       "      <td>1</td>\n",
       "      <td>3</td>\n",
       "    </tr>\n",
       "    <tr>\n",
       "      <th>1</th>\n",
       "      <td>165000</td>\n",
       "      <td>165000</td>\n",
       "      <td>2023</td>\n",
       "      <td>39</td>\n",
       "      <td>2</td>\n",
       "      <td>3</td>\n",
       "      <td>1</td>\n",
       "      <td>575</td>\n",
       "      <td>21</td>\n",
       "      <td>70</td>\n",
       "      <td>850</td>\n",
       "      <td>80</td>\n",
       "      <td>1</td>\n",
       "      <td>3</td>\n",
       "    </tr>\n",
       "    <tr>\n",
       "      <th>2</th>\n",
       "      <td>185900</td>\n",
       "      <td>185900</td>\n",
       "      <td>2023</td>\n",
       "      <td>39</td>\n",
       "      <td>2</td>\n",
       "      <td>3</td>\n",
       "      <td>1</td>\n",
       "      <td>681</td>\n",
       "      <td>21</td>\n",
       "      <td>70</td>\n",
       "      <td>960</td>\n",
       "      <td>80</td>\n",
       "      <td>1</td>\n",
       "      <td>3</td>\n",
       "    </tr>\n",
       "    <tr>\n",
       "      <th>3</th>\n",
       "      <td>129300</td>\n",
       "      <td>129300</td>\n",
       "      <td>2023</td>\n",
       "      <td>39</td>\n",
       "      <td>2</td>\n",
       "      <td>3</td>\n",
       "      <td>1</td>\n",
       "      <td>378</td>\n",
       "      <td>21</td>\n",
       "      <td>70</td>\n",
       "      <td>641</td>\n",
       "      <td>80</td>\n",
       "      <td>1</td>\n",
       "      <td>3</td>\n",
       "    </tr>\n",
       "    <tr>\n",
       "      <th>4</th>\n",
       "      <td>140000</td>\n",
       "      <td>140000</td>\n",
       "      <td>2023</td>\n",
       "      <td>59</td>\n",
       "      <td>2</td>\n",
       "      <td>3</td>\n",
       "      <td>1</td>\n",
       "      <td>440</td>\n",
       "      <td>21</td>\n",
       "      <td>70</td>\n",
       "      <td>707</td>\n",
       "      <td>80</td>\n",
       "      <td>1</td>\n",
       "      <td>3</td>\n",
       "    </tr>\n",
       "    <tr>\n",
       "      <th>...</th>\n",
       "      <td>...</td>\n",
       "      <td>...</td>\n",
       "      <td>...</td>\n",
       "      <td>...</td>\n",
       "      <td>...</td>\n",
       "      <td>...</td>\n",
       "      <td>...</td>\n",
       "      <td>...</td>\n",
       "      <td>...</td>\n",
       "      <td>...</td>\n",
       "      <td>...</td>\n",
       "      <td>...</td>\n",
       "      <td>...</td>\n",
       "      <td>...</td>\n",
       "    </tr>\n",
       "    <tr>\n",
       "      <th>3294</th>\n",
       "      <td>165000</td>\n",
       "      <td>165000</td>\n",
       "      <td>2021</td>\n",
       "      <td>61</td>\n",
       "      <td>2</td>\n",
       "      <td>3</td>\n",
       "      <td>1</td>\n",
       "      <td>575</td>\n",
       "      <td>21</td>\n",
       "      <td>70</td>\n",
       "      <td>850</td>\n",
       "      <td>80</td>\n",
       "      <td>0</td>\n",
       "      <td>1</td>\n",
       "    </tr>\n",
       "    <tr>\n",
       "      <th>3296</th>\n",
       "      <td>151000</td>\n",
       "      <td>151000</td>\n",
       "      <td>2021</td>\n",
       "      <td>100</td>\n",
       "      <td>2</td>\n",
       "      <td>2</td>\n",
       "      <td>2</td>\n",
       "      <td>509</td>\n",
       "      <td>21</td>\n",
       "      <td>70</td>\n",
       "      <td>780</td>\n",
       "      <td>80</td>\n",
       "      <td>0</td>\n",
       "      <td>1</td>\n",
       "    </tr>\n",
       "    <tr>\n",
       "      <th>3297</th>\n",
       "      <td>105000</td>\n",
       "      <td>105000</td>\n",
       "      <td>2020</td>\n",
       "      <td>59</td>\n",
       "      <td>2</td>\n",
       "      <td>0</td>\n",
       "      <td>3</td>\n",
       "      <td>233</td>\n",
       "      <td>21</td>\n",
       "      <td>70</td>\n",
       "      <td>467</td>\n",
       "      <td>80</td>\n",
       "      <td>2</td>\n",
       "      <td>0</td>\n",
       "    </tr>\n",
       "    <tr>\n",
       "      <th>3298</th>\n",
       "      <td>100000</td>\n",
       "      <td>100000</td>\n",
       "      <td>2020</td>\n",
       "      <td>19</td>\n",
       "      <td>0</td>\n",
       "      <td>0</td>\n",
       "      <td>3</td>\n",
       "      <td>212</td>\n",
       "      <td>21</td>\n",
       "      <td>70</td>\n",
       "      <td>433</td>\n",
       "      <td>80</td>\n",
       "      <td>0</td>\n",
       "      <td>0</td>\n",
       "    </tr>\n",
       "    <tr>\n",
       "      <th>3299</th>\n",
       "      <td>7000000</td>\n",
       "      <td>94665</td>\n",
       "      <td>2021</td>\n",
       "      <td>57</td>\n",
       "      <td>2</td>\n",
       "      <td>3</td>\n",
       "      <td>1</td>\n",
       "      <td>1066</td>\n",
       "      <td>9</td>\n",
       "      <td>30</td>\n",
       "      <td>408</td>\n",
       "      <td>35</td>\n",
       "      <td>0</td>\n",
       "      <td>1</td>\n",
       "    </tr>\n",
       "  </tbody>\n",
       "</table>\n",
       "<p>3275 rows × 14 columns</p>\n",
       "</div>"
      ],
      "text/plain": [
       "       Salary  Salary in USD  Year  Job Title_encoded  \\\n",
       "0      210000         210000  2023                 39   \n",
       "1      165000         165000  2023                 39   \n",
       "2      185900         185900  2023                 39   \n",
       "3      129300         129300  2023                 39   \n",
       "4      140000         140000  2023                 59   \n",
       "...       ...            ...   ...                ...   \n",
       "3294   165000         165000  2021                 61   \n",
       "3296   151000         151000  2021                100   \n",
       "3297   105000         105000  2020                 59   \n",
       "3298   100000         100000  2020                 19   \n",
       "3299  7000000          94665  2021                 57   \n",
       "\n",
       "      Employment Type_encoded  Experience Level_encoded  \\\n",
       "0                           2                         3   \n",
       "1                           2                         3   \n",
       "2                           2                         3   \n",
       "3                           2                         3   \n",
       "4                           2                         3   \n",
       "...                       ...                       ...   \n",
       "3294                        2                         3   \n",
       "3296                        2                         2   \n",
       "3297                        2                         0   \n",
       "3298                        0                         0   \n",
       "3299                        2                         3   \n",
       "\n",
       "      Expertise Level_encoded  Salary_encoded  Salary Currency_encoded  \\\n",
       "0                           1             789                       21   \n",
       "1                           1             575                       21   \n",
       "2                           1             681                       21   \n",
       "3                           1             378                       21   \n",
       "4                           1             440                       21   \n",
       "...                       ...             ...                      ...   \n",
       "3294                        1             575                       21   \n",
       "3296                        2             509                       21   \n",
       "3297                        3             233                       21   \n",
       "3298                        3             212                       21   \n",
       "3299                        1            1066                        9   \n",
       "\n",
       "      Company Location_encoded  Salary in USD_encoded  \\\n",
       "0                           70                   1074   \n",
       "1                           70                    850   \n",
       "2                           70                    960   \n",
       "3                           70                    641   \n",
       "4                           70                    707   \n",
       "...                        ...                    ...   \n",
       "3294                        70                    850   \n",
       "3296                        70                    780   \n",
       "3297                        70                    467   \n",
       "3298                        70                    433   \n",
       "3299                        30                    408   \n",
       "\n",
       "      Employee Residence_encoded  Company Size_encoded  Year_encoded  \n",
       "0                             80                     1             3  \n",
       "1                             80                     1             3  \n",
       "2                             80                     1             3  \n",
       "3                             80                     1             3  \n",
       "4                             80                     1             3  \n",
       "...                          ...                   ...           ...  \n",
       "3294                          80                     0             1  \n",
       "3296                          80                     0             1  \n",
       "3297                          80                     2             0  \n",
       "3298                          80                     0             0  \n",
       "3299                          35                     0             1  \n",
       "\n",
       "[3275 rows x 14 columns]"
      ]
     },
     "execution_count": 92,
     "metadata": {},
     "output_type": "execute_result"
    }
   ],
   "source": [
    "df_cleaned.select_dtypes(include='int64')"
   ]
  },
  {
   "cell_type": "code",
   "execution_count": 86,
   "id": "c805a8ca-a6e2-43f4-a451-5e6e869ac3d7",
   "metadata": {},
   "outputs": [],
   "source": [
    "# new_df2 = pd.DataFrame({\n",
    "#     'Company Location':['United States'],\n",
    "#     'Job Title':['Data Engineer'],\n",
    "#     'Experience Level':['Senior'],\n",
    "#     'Employee Residence':['United States'],\n",
    "#     'Company Size':['Medium\t'],\n",
    "#     'Salary':[210000],\n",
    "#     'Salary Currency':['United States Dollar'],\n",
    "#     'Salary in USD':[210000],\n",
    "# })"
   ]
  },
  {
   "cell_type": "code",
   "execution_count": 88,
   "id": "5f49d79b-15cf-4a18-8061-f7de8672d25c",
   "metadata": {},
   "outputs": [],
   "source": [
    "voting = VotingRegressor(estimators=[\n",
    "    ('randomForesr',RandomForestRegressor()),\n",
    "    ('XGBoost Regression', xgb.XGBRegressor()),\n",
    "    ('Decision Tree Regression', DecisionTreeRegressor())\n",
    "])"
   ]
  },
  {
   "cell_type": "code",
   "execution_count": 90,
   "id": "c6ff4137-7dab-4718-953c-d5e09326e37b",
   "metadata": {},
   "outputs": [
    {
     "name": "stdout",
     "output_type": "stream",
     "text": [
      "Predicted Salary: $83334.57\n"
     ]
    }
   ],
   "source": [
    "results = []\n",
    "\n",
    "for name, model in [('voting regressor',voting)]:\n",
    "    pipeline = Pipeline([\n",
    "        ('preprocessor',preprocessor),\n",
    "        ('regressor',model)\n",
    "    ])\n",
    "    pipeline.fit(X_train,y_train)\n",
    "    y_pred = pipeline.predict(new_df)\n",
    "    print(f\"Predicted Salary: ${y_pred[0]:.2f}\")"
   ]
  },
  {
   "cell_type": "code",
   "execution_count": null,
   "id": "7f5b3f35-06f4-4928-a5f5-1aeb714f942f",
   "metadata": {},
   "outputs": [],
   "source": []
  },
  {
   "cell_type": "code",
   "execution_count": null,
   "id": "f50586a1-1527-4c19-91dd-89ebf5f1255e",
   "metadata": {},
   "outputs": [],
   "source": []
  }
 ],
 "metadata": {
  "kernelspec": {
   "display_name": "Python [conda env:base] *",
   "language": "python",
   "name": "conda-base-py"
  },
  "language_info": {
   "codemirror_mode": {
    "name": "ipython",
    "version": 3
   },
   "file_extension": ".py",
   "mimetype": "text/x-python",
   "name": "python",
   "nbconvert_exporter": "python",
   "pygments_lexer": "ipython3",
   "version": "3.12.7"
  }
 },
 "nbformat": 4,
 "nbformat_minor": 5
}
